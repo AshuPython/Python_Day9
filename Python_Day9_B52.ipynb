{
 "cells": [
  {
   "cell_type": "code",
   "execution_count": 2,
   "id": "6842c1ef",
   "metadata": {},
   "outputs": [
    {
     "name": "stdout",
     "output_type": "stream",
     "text": [
      "{'color': 'green', 'points': 5}\n"
     ]
    }
   ],
   "source": [
    "alien = {'color':'green','points':5}\n",
    "\n",
    "print(alien)"
   ]
  },
  {
   "cell_type": "code",
   "execution_count": null,
   "id": "bb5c4f18",
   "metadata": {},
   "outputs": [],
   "source": []
  },
  {
   "cell_type": "code",
   "execution_count": 3,
   "id": "598c5ee8",
   "metadata": {},
   "outputs": [
    {
     "name": "stdout",
     "output_type": "stream",
     "text": [
      "green\n"
     ]
    }
   ],
   "source": [
    "print(alien['color'])"
   ]
  },
  {
   "cell_type": "code",
   "execution_count": null,
   "id": "d63d40c3",
   "metadata": {},
   "outputs": [],
   "source": []
  },
  {
   "cell_type": "code",
   "execution_count": 4,
   "id": "b88f0e8b",
   "metadata": {},
   "outputs": [],
   "source": [
    "alien['starting_point'] = 0"
   ]
  },
  {
   "cell_type": "code",
   "execution_count": 5,
   "id": "6a40544b",
   "metadata": {},
   "outputs": [
    {
     "name": "stdout",
     "output_type": "stream",
     "text": [
      "{'color': 'green', 'points': 5, 'starting_point': 0}\n"
     ]
    }
   ],
   "source": [
    "print(alien)"
   ]
  },
  {
   "cell_type": "code",
   "execution_count": null,
   "id": "17173fa2",
   "metadata": {},
   "outputs": [],
   "source": []
  },
  {
   "cell_type": "code",
   "execution_count": 6,
   "id": "ac0eda0a",
   "metadata": {},
   "outputs": [],
   "source": [
    "alien['current_porsition'] = 10"
   ]
  },
  {
   "cell_type": "code",
   "execution_count": 7,
   "id": "a33e75f4",
   "metadata": {},
   "outputs": [
    {
     "name": "stdout",
     "output_type": "stream",
     "text": [
      "{'color': 'green', 'points': 5, 'starting_point': 0, 'current_porsition': 10}\n"
     ]
    }
   ],
   "source": [
    "print(alien)"
   ]
  },
  {
   "cell_type": "code",
   "execution_count": null,
   "id": "695bd5fd",
   "metadata": {},
   "outputs": [],
   "source": []
  },
  {
   "cell_type": "code",
   "execution_count": 8,
   "id": "b7f0ab2f",
   "metadata": {},
   "outputs": [],
   "source": [
    "alien['color'] = 'yellow'\n",
    "alien['points'] = 10"
   ]
  },
  {
   "cell_type": "code",
   "execution_count": null,
   "id": "d7735243",
   "metadata": {},
   "outputs": [],
   "source": []
  },
  {
   "cell_type": "code",
   "execution_count": 10,
   "id": "dd3a6436",
   "metadata": {},
   "outputs": [
    {
     "name": "stdout",
     "output_type": "stream",
     "text": [
      "{'color': 'yellow', 'points': 10, 'starting_point': 0, 'current_porsition': 10}\n"
     ]
    }
   ],
   "source": [
    "print(alien)"
   ]
  },
  {
   "cell_type": "code",
   "execution_count": null,
   "id": "5ad5a40d",
   "metadata": {},
   "outputs": [],
   "source": []
  },
  {
   "cell_type": "code",
   "execution_count": null,
   "id": "7f858b73",
   "metadata": {},
   "outputs": [],
   "source": []
  },
  {
   "cell_type": "code",
   "execution_count": null,
   "id": "2eb8fb01",
   "metadata": {},
   "outputs": [],
   "source": [
    "#Making a google account"
   ]
  },
  {
   "cell_type": "code",
   "execution_count": 12,
   "id": "bbb7ddc9",
   "metadata": {},
   "outputs": [],
   "source": [
    "googleaccount = {'username':'AtharvaSharma','firstname':'Atharva','lastname':'Sharma','dob':'19-05-2017','pwd':'98765'}"
   ]
  },
  {
   "cell_type": "code",
   "execution_count": 13,
   "id": "5c7ad414",
   "metadata": {},
   "outputs": [
    {
     "name": "stdout",
     "output_type": "stream",
     "text": [
      "{'username': 'AtharvaSharma', 'firstname': 'Atharva', 'lastname': 'Sharma', 'dob': '19-05-2017', 'pwd': '98765'}\n"
     ]
    }
   ],
   "source": [
    "print(googleaccount)"
   ]
  },
  {
   "cell_type": "code",
   "execution_count": null,
   "id": "502bc1c6",
   "metadata": {},
   "outputs": [],
   "source": []
  },
  {
   "cell_type": "code",
   "execution_count": 16,
   "id": "66f6c12e",
   "metadata": {},
   "outputs": [],
   "source": [
    "googleaccount['location'] = 'iranichai'"
   ]
  },
  {
   "cell_type": "code",
   "execution_count": 17,
   "id": "ada8a747",
   "metadata": {},
   "outputs": [
    {
     "name": "stdout",
     "output_type": "stream",
     "text": [
      "{'username': 'AtharvaSharma', 'firstname': 'Atharva', 'lastname': 'Sharma', 'dob': '19-05-2017', 'pwd': '98765', 'location': 'iranichai'}\n"
     ]
    }
   ],
   "source": [
    "print(googleaccount)"
   ]
  },
  {
   "cell_type": "code",
   "execution_count": null,
   "id": "153932be",
   "metadata": {},
   "outputs": [],
   "source": []
  },
  {
   "cell_type": "code",
   "execution_count": 20,
   "id": "7505e68d",
   "metadata": {},
   "outputs": [
    {
     "name": "stdout",
     "output_type": "stream",
     "text": [
      "{'color': 'yellow', 'points': 10, 'starting_point': 0, 'current_porsition': 10}\n"
     ]
    }
   ],
   "source": [
    "print(alien)"
   ]
  },
  {
   "cell_type": "code",
   "execution_count": null,
   "id": "20358bbd",
   "metadata": {},
   "outputs": [],
   "source": []
  },
  {
   "cell_type": "code",
   "execution_count": 21,
   "id": "87517d80",
   "metadata": {},
   "outputs": [],
   "source": [
    "del alien['starting_point']"
   ]
  },
  {
   "cell_type": "code",
   "execution_count": 22,
   "id": "f300bee7",
   "metadata": {},
   "outputs": [
    {
     "name": "stdout",
     "output_type": "stream",
     "text": [
      "{'color': 'yellow', 'points': 10, 'current_porsition': 10}\n"
     ]
    }
   ],
   "source": [
    "print(alien)"
   ]
  },
  {
   "cell_type": "code",
   "execution_count": null,
   "id": "ae7c95c3",
   "metadata": {},
   "outputs": [],
   "source": []
  },
  {
   "cell_type": "code",
   "execution_count": 23,
   "id": "56476697",
   "metadata": {},
   "outputs": [
    {
     "name": "stdout",
     "output_type": "stream",
     "text": [
      "color\n",
      "yellow\n",
      "points\n",
      "10\n",
      "current_porsition\n",
      "10\n"
     ]
    }
   ],
   "source": [
    "for a,b in alien.items():\n",
    "    print(a)\n",
    "    print(b)"
   ]
  },
  {
   "cell_type": "code",
   "execution_count": null,
   "id": "7d6bc57f",
   "metadata": {},
   "outputs": [],
   "source": []
  },
  {
   "cell_type": "code",
   "execution_count": 31,
   "id": "b57cdc29",
   "metadata": {},
   "outputs": [],
   "source": [
    "useraccount = {'username':'AtharvaSharma','firstname':'Atharva','lastname':'Sharma'}"
   ]
  },
  {
   "cell_type": "code",
   "execution_count": 32,
   "id": "85c7ff2a",
   "metadata": {},
   "outputs": [
    {
     "name": "stdout",
     "output_type": "stream",
     "text": [
      "{'username': 'AtharvaSharma', 'firstname': 'Atharva', 'lastname': 'Sharma'}\n"
     ]
    }
   ],
   "source": [
    "print(useraccount)"
   ]
  },
  {
   "cell_type": "code",
   "execution_count": null,
   "id": "44802e57",
   "metadata": {},
   "outputs": [],
   "source": []
  },
  {
   "cell_type": "code",
   "execution_count": 33,
   "id": "e3bd258e",
   "metadata": {},
   "outputs": [
    {
     "name": "stdout",
     "output_type": "stream",
     "text": [
      "username\n",
      "AtharvaSharma\n",
      "firstname\n",
      "Atharva\n",
      "lastname\n",
      "Sharma\n"
     ]
    }
   ],
   "source": [
    "for y,z in useraccount.items():\n",
    "    print(y)\n",
    "    print(z)"
   ]
  },
  {
   "cell_type": "code",
   "execution_count": null,
   "id": "5f999e6b",
   "metadata": {},
   "outputs": [],
   "source": []
  }
 ],
 "metadata": {
  "kernelspec": {
   "display_name": "Python 3",
   "language": "python",
   "name": "python3"
  },
  "language_info": {
   "codemirror_mode": {
    "name": "ipython",
    "version": 3
   },
   "file_extension": ".py",
   "mimetype": "text/x-python",
   "name": "python",
   "nbconvert_exporter": "python",
   "pygments_lexer": "ipython3",
   "version": "3.8.8"
  }
 },
 "nbformat": 4,
 "nbformat_minor": 5
}
